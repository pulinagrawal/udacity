{
 "cells": [
  {
   "cell_type": "markdown",
   "metadata": {
    "colab_type": "text",
    "id": "kR-4eNdK6lYS"
   },
   "source": [
    "Deep Learning\n",
    "=============\n",
    "\n",
    "Assignment 3\n",
    "------------\n",
    "\n",
    "Previously in `2_fullyconnected.ipynb`, you trained a logistic regression and a neural network model.\n",
    "\n",
    "The goal of this assignment is to explore regularization techniques."
   ]
  },
  {
   "cell_type": "code",
   "execution_count": 1,
   "metadata": {
    "cellView": "both",
    "colab": {
     "autoexec": {
      "startup": false,
      "wait_interval": 0
     }
    },
    "colab_type": "code",
    "collapsed": true,
    "id": "JLpLa8Jt7Vu4"
   },
   "outputs": [],
   "source": [
    "# These are all the modules we'll be using later. Make sure you can import them\n",
    "# before proceeding further.\n",
    "from __future__ import print_function\n",
    "import numpy as np\n",
    "import tensorflow as tf\n",
    "from six.moves import cPickle as pickle"
   ]
  },
  {
   "cell_type": "markdown",
   "metadata": {
    "colab_type": "text",
    "id": "1HrCK6e17WzV"
   },
   "source": [
    "First reload the data we generated in _notmist.ipynb_."
   ]
  },
  {
   "cell_type": "code",
   "execution_count": 2,
   "metadata": {
    "cellView": "both",
    "colab": {
     "autoexec": {
      "startup": false,
      "wait_interval": 0
     },
     "output_extras": [
      {
       "item_id": 1
      }
     ]
    },
    "colab_type": "code",
    "collapsed": false,
    "executionInfo": {
     "elapsed": 11777,
     "status": "ok",
     "timestamp": 1449849322348,
     "user": {
      "color": "",
      "displayName": "",
      "isAnonymous": false,
      "isMe": true,
      "permissionId": "",
      "photoUrl": "",
      "sessionId": "0",
      "userId": ""
     },
     "user_tz": 480
    },
    "id": "y3-cj1bpmuxc",
    "outputId": "e03576f1-ebbe-4838-c388-f1777bcc9873"
   },
   "outputs": [
    {
     "name": "stdout",
     "output_type": "stream",
     "text": [
      "Training set (200000, 28, 28) (200000,)\n",
      "Validation set (10000, 28, 28) (10000,)\n",
      "Test set (10000, 28, 28) (10000,)\n"
     ]
    }
   ],
   "source": [
    "pickle_file = 'notMNIST.pickle'\n",
    "\n",
    "with open(pickle_file, 'rb') as f:\n",
    "  save = pickle.load(f)\n",
    "  train_dataset = save['train_dataset']\n",
    "  train_labels = save['train_labels']\n",
    "  valid_dataset = save['valid_dataset']\n",
    "  valid_labels = save['valid_labels']\n",
    "  test_dataset = save['test_dataset']\n",
    "  test_labels = save['test_labels']\n",
    "  del save  # hint to help gc free up memory\n",
    "  print('Training set', train_dataset.shape, train_labels.shape)\n",
    "  print('Validation set', valid_dataset.shape, valid_labels.shape)\n",
    "  print('Test set', test_dataset.shape, test_labels.shape)"
   ]
  },
  {
   "cell_type": "markdown",
   "metadata": {
    "colab_type": "text",
    "id": "L7aHrm6nGDMB"
   },
   "source": [
    "Reformat into a shape that's more adapted to the models we're going to train:\n",
    "- data as a flat matrix,\n",
    "- labels as float 1-hot encodings."
   ]
  },
  {
   "cell_type": "code",
   "execution_count": 3,
   "metadata": {
    "cellView": "both",
    "colab": {
     "autoexec": {
      "startup": false,
      "wait_interval": 0
     },
     "output_extras": [
      {
       "item_id": 1
      }
     ]
    },
    "colab_type": "code",
    "collapsed": false,
    "executionInfo": {
     "elapsed": 11728,
     "status": "ok",
     "timestamp": 1449849322356,
     "user": {
      "color": "",
      "displayName": "",
      "isAnonymous": false,
      "isMe": true,
      "permissionId": "",
      "photoUrl": "",
      "sessionId": "0",
      "userId": ""
     },
     "user_tz": 480
    },
    "id": "IRSyYiIIGIzS",
    "outputId": "3f8996ee-3574-4f44-c953-5c8a04636582"
   },
   "outputs": [
    {
     "name": "stdout",
     "output_type": "stream",
     "text": [
      "Training set (200000, 784) (200000, 10)\n",
      "Validation set (10000, 784) (10000, 10)\n",
      "Test set (10000, 784) (10000, 10)\n"
     ]
    }
   ],
   "source": [
    "image_size = 28\n",
    "num_labels = 10\n",
    "\n",
    "def reformat(dataset, labels):\n",
    "  dataset = dataset.reshape((-1, image_size * image_size)).astype(np.float32)\n",
    "  # Map 2 to [0.0, 1.0, 0.0 ...], 3 to [0.0, 0.0, 1.0 ...]\n",
    "  labels = (np.arange(num_labels) == labels[:,None]).astype(np.float32)\n",
    "  return dataset, labels\n",
    "train_dataset, train_labels = reformat(train_dataset, train_labels)\n",
    "valid_dataset, valid_labels = reformat(valid_dataset, valid_labels)\n",
    "test_dataset, test_labels = reformat(test_dataset, test_labels)\n",
    "print('Training set', train_dataset.shape, train_labels.shape)\n",
    "print('Validation set', valid_dataset.shape, valid_labels.shape)\n",
    "print('Test set', test_dataset.shape, test_labels.shape)"
   ]
  },
  {
   "cell_type": "code",
   "execution_count": 4,
   "metadata": {
    "cellView": "both",
    "colab": {
     "autoexec": {
      "startup": false,
      "wait_interval": 0
     }
    },
    "colab_type": "code",
    "collapsed": true,
    "id": "RajPLaL_ZW6w"
   },
   "outputs": [],
   "source": [
    "def accuracy(predictions, labels):\n",
    "  return (100.0 * np.sum(np.argmax(predictions, 1) == np.argmax(labels, 1))\n",
    "          / predictions.shape[0])"
   ]
  },
  {
   "cell_type": "markdown",
   "metadata": {
    "colab_type": "text",
    "id": "sgLbUAQ1CW-1"
   },
   "source": [
    "---\n",
    "Problem 1\n",
    "---------\n",
    "\n",
    "Introduce and tune L2 regularization for both logistic and neural network models. Remember that L2 amounts to adding a penalty on the norm of the weights to the loss. In TensorFlow, you can compute the L2 loss for a tensor `t` using `nn.l2_loss(t)`. The right amount of regularization should improve your validation / test accuracy.\n",
    "\n",
    "---"
   ]
  },
  {
   "cell_type": "markdown",
   "metadata": {},
   "source": [
    "### Logistic"
   ]
  },
  {
   "cell_type": "code",
   "execution_count": 11,
   "metadata": {
    "collapsed": true
   },
   "outputs": [],
   "source": [
    "batch_size = 128\n",
    "beta=.01\n",
    "\n",
    "graph = tf.Graph()\n",
    "with graph.as_default():\n",
    "\n",
    "  # Input data. For the training data, we use a placeholder that will be fed\n",
    "  # at run time with a training minibatch.\n",
    "  tf_train_dataset = tf.placeholder(tf.float32,\n",
    "                                    shape=(batch_size, image_size * image_size))\n",
    "  tf_train_labels = tf.placeholder(tf.float32, shape=(batch_size, num_labels))\n",
    "  tf_valid_dataset = tf.constant(valid_dataset)\n",
    "  tf_test_dataset = tf.constant(test_dataset)\n",
    "  \n",
    "  # Variables.\n",
    "  weights = tf.Variable(\n",
    "    tf.truncated_normal([image_size * image_size, num_labels]))\n",
    "  biases = tf.Variable(tf.zeros([num_labels]))\n",
    "  \n",
    "  # Training computation.\n",
    "  logits = tf.matmul(tf_train_dataset, weights) + biases\n",
    "  loss = tf.reduce_mean(\n",
    "    tf.nn.softmax_cross_entropy_with_logits(logits, tf_train_labels)+beta*tf.nn.l2_loss(weights))\n",
    "  \n",
    "  # Optimizer.\n",
    "  optimizer = tf.train.GradientDescentOptimizer(0.5).minimize(loss)\n",
    "  \n",
    "  # Predictions for the training, validation, and test data.\n",
    "  train_prediction = tf.nn.softmax(logits)\n",
    "  valid_prediction = tf.nn.softmax(\n",
    "    tf.matmul(tf_valid_dataset, weights) + biases)\n",
    "  test_prediction = tf.nn.softmax(tf.matmul(tf_test_dataset, weights) + biases)"
   ]
  },
  {
   "cell_type": "code",
   "execution_count": 12,
   "metadata": {
    "collapsed": false
   },
   "outputs": [
    {
     "name": "stdout",
     "output_type": "stream",
     "text": [
      "Initialized\n",
      "Minibatch loss at step 0: 51.175274\n",
      "Minibatch accuracy: 7.0%\n",
      "Validation accuracy: 9.0%\n",
      "Minibatch loss at step 500: 0.976922\n",
      "Minibatch accuracy: 80.5%\n",
      "Validation accuracy: 80.3%\n",
      "Minibatch loss at step 1000: 0.749123\n",
      "Minibatch accuracy: 82.0%\n",
      "Validation accuracy: 80.9%\n",
      "Minibatch loss at step 1500: 0.877641\n",
      "Minibatch accuracy: 76.6%\n",
      "Validation accuracy: 81.0%\n",
      "Minibatch loss at step 2000: 0.928107\n",
      "Minibatch accuracy: 79.7%\n",
      "Validation accuracy: 81.2%\n",
      "Minibatch loss at step 2500: 0.830246\n",
      "Minibatch accuracy: 78.9%\n",
      "Validation accuracy: 81.1%\n",
      "Minibatch loss at step 3000: 0.641256\n",
      "Minibatch accuracy: 86.7%\n",
      "Validation accuracy: 81.4%\n",
      "Test accuracy: 88.4%\n"
     ]
    }
   ],
   "source": [
    "num_steps = 3001\n",
    "\n",
    "with tf.Session(graph=graph) as session:\n",
    "  tf.initialize_all_variables().run()\n",
    "  print(\"Initialized\")\n",
    "  for step in range(num_steps):\n",
    "    # Pick an offset within the training data, which has been randomized.\n",
    "    # Note: we could use better randomization across epochs.\n",
    "    offset = (step * batch_size) % (train_labels.shape[0] - batch_size)\n",
    "    # Generate a minibatch.\n",
    "    batch_data = train_dataset[offset:(offset + batch_size), :]\n",
    "    batch_labels = train_labels[offset:(offset + batch_size), :]\n",
    "    # Prepare a dictionary telling the session where to feed the minibatch.\n",
    "    # The key of the dictionary is the placeholder node of the graph to be fed,\n",
    "    # and the value is the numpy array to feed to it.\n",
    "    feed_dict = {tf_train_dataset : batch_data, tf_train_labels : batch_labels}\n",
    "    _, l, predictions = session.run(\n",
    "      [optimizer, loss, train_prediction], feed_dict=feed_dict)\n",
    "    if (step % 500 == 0):\n",
    "      print(\"Minibatch loss at step %d: %f\" % (step, l))\n",
    "      print(\"Minibatch accuracy: %.1f%%\" % accuracy(predictions, batch_labels))\n",
    "      print(\"Validation accuracy: %.1f%%\" % accuracy(\n",
    "        valid_prediction.eval(), valid_labels))\n",
    "  print(\"Test accuracy: %.1f%%\" % accuracy(test_prediction.eval(), test_labels))"
   ]
  },
  {
   "cell_type": "markdown",
   "metadata": {
    "colab_type": "text",
    "id": "na8xX2yHZzNF"
   },
   "source": [
    "---\n",
    "Problem 2\n",
    "---------\n",
    "Let's demonstrate an extreme case of overfitting. Restrict your training data to just a few batches. What happens?\n",
    "\n",
    "---"
   ]
  },
  {
   "cell_type": "markdown",
   "metadata": {},
   "source": [
    "how is this overfitting?"
   ]
  },
  {
   "cell_type": "code",
   "execution_count": 8,
   "metadata": {
    "collapsed": false
   },
   "outputs": [],
   "source": [
    "batch_size = 128\n",
    "beta=.005\n",
    "nHidden=1024\n",
    "\n",
    "graph = tf.Graph()\n",
    "with graph.as_default():\n",
    "\n",
    "  # Input data. For the training data, we use a placeholder that will be fed\n",
    "  # at run time with a training minibatch.\n",
    "  tf_train_dataset = tf.placeholder(tf.float32,\n",
    "                                    shape=(batch_size, image_size * image_size))\n",
    "  tf_train_labels = tf.placeholder(tf.float32, shape=(batch_size, num_labels))\n",
    "  tf_valid_dataset = tf.constant(valid_dataset)\n",
    "  tf_test_dataset = tf.constant(test_dataset)\n",
    "  \n",
    "  # Variables.\n",
    "  weights_hidden1 = tf.Variable(\n",
    "    tf.truncated_normal([image_size * image_size, nHidden]))\n",
    "  weights = tf.Variable(\n",
    "    tf.truncated_normal([nHidden, num_labels]))\n",
    "  biases_hidden1 = tf.Variable(tf.zeros([nHidden]))\n",
    "  biases = tf.Variable(tf.zeros([num_labels]))\n",
    "    \n",
    "  # Training computation.\n",
    "  hidden1 = tf.nn.relu(tf.matmul(tf_train_dataset, weights_hidden1) + biases_hidden1)\n",
    "  logits = tf.matmul(hidden1, weights) + biases\n",
    "  loss = tf.reduce_mean(\n",
    "    tf.nn.softmax_cross_entropy_with_logits(logits, tf_train_labels)+beta*tf.nn.l2_loss(weights))\n",
    "  \n",
    "  # Optimizer.\n",
    "  optimizer = tf.train.GradientDescentOptimizer(0.5).minimize(loss)\n",
    "  \n",
    "  # Predictions for the training, validation, and test data.\n",
    "  train_prediction = tf.nn.softmax(logits)\n",
    "  valid_prediction = tf.nn.softmax(\n",
    "    tf.matmul(tf.nn.relu(tf.matmul(tf_valid_dataset, weights_hidden1) + biases_hidden1), weights) + biases)\n",
    "  test_prediction = tf.nn.softmax(tf.matmul(tf.nn.relu(tf.matmul(tf_test_dataset, weights_hidden1) + biases_hidden1), weights) + biases)"
   ]
  },
  {
   "cell_type": "code",
   "execution_count": 9,
   "metadata": {
    "collapsed": false
   },
   "outputs": [
    {
     "name": "stdout",
     "output_type": "stream",
     "text": [
      "Initialized\n",
      "Minibatch loss at step 0: 425.018555\n",
      "Minibatch accuracy: 7.8%\n",
      "Validation accuracy: 36.0%\n",
      "Test accuracy: 85.3%\n"
     ]
    }
   ],
   "source": [
    "num_steps = 101\n",
    "\n",
    "with tf.Session(graph=graph) as session:\n",
    "  tf.initialize_all_variables().run()\n",
    "  print(\"Initialized\")\n",
    "  for step in range(num_steps):\n",
    "    # Pick an offset within the training data, which has been randomized.\n",
    "    # Note: we could use better randomization across epochs.\n",
    "    offset = (1 * batch_size) % (train_labels.shape[0] - batch_size)\n",
    "    # Generate a minibatch.\n",
    "    batch_data = train_dataset[offset:(offset + batch_size), :]\n",
    "    batch_labels = train_labels[offset:(offset + batch_size), :]\n",
    "    # Prepare a dictionary telling the session where to feed the minibatch.\n",
    "    # The key of the dictionary is the placeholder node of the graph to be fed,\n",
    "    # and the value is the numpy array to feed to it.\n",
    "    feed_dict = {tf_train_dataset : batch_data, tf_train_labels : batch_labels}\n",
    "    _, l, predictions = session.run(\n",
    "      [optimizer, loss, train_prediction], feed_dict=feed_dict)\n",
    "    if (step % 500 == 0):\n",
    "      print(\"Minibatch loss at step %d: %f\" % (step, l))\n",
    "      print(\"Minibatch accuracy: %.1f%%\" % accuracy(predictions, batch_labels))\n",
    "      print(\"Validation accuracy: %.1f%%\" % accuracy(\n",
    "        valid_prediction.eval(), valid_labels))\n",
    "  print(\"Test accuracy: %.1f%%\" % accuracy(test_prediction.eval(), test_labels))"
   ]
  },
  {
   "cell_type": "markdown",
   "metadata": {},
   "source": [
    "### NNet"
   ]
  },
  {
   "cell_type": "code",
   "execution_count": 40,
   "metadata": {
    "collapsed": false
   },
   "outputs": [],
   "source": [
    "batch_size = 128\n",
    "beta=0.00001\n",
    "nHidden=1024\n",
    "\n",
    "graph = tf.Graph()\n",
    "with graph.as_default():\n",
    "\n",
    "  # Input data. For the training data, we use a placeholder that will be fed\n",
    "  # at run time with a training minibatch.\n",
    "  tf_train_dataset = tf.placeholder(tf.float32,\n",
    "                                    shape=(batch_size, image_size * image_size))\n",
    "  tf_train_labels = tf.placeholder(tf.float32, shape=(batch_size, num_labels))\n",
    "  tf_valid_dataset = tf.constant(valid_dataset)\n",
    "  tf_test_dataset = tf.constant(test_dataset)\n",
    "  \n",
    "  # Variables.\n",
    "  weights_hidden1 = tf.Variable(\n",
    "    tf.truncated_normal([image_size * image_size, nHidden]))\n",
    "  weights = tf.Variable(\n",
    "    tf.truncated_normal([nHidden, num_labels]))\n",
    "  biases_hidden1 = tf.Variable(tf.zeros([nHidden]))\n",
    "  biases = tf.Variable(tf.zeros([num_labels]))\n",
    "  \n",
    "  # Training computation.\n",
    "  hidden1 = tf.nn.relu(tf.matmul(tf_train_dataset, weights_hidden1) + biases_hidden1)\n",
    "  logits = tf.matmul(hidden1, weights) + biases\n",
    "  loss = tf.reduce_mean(\n",
    "    tf.nn.softmax_cross_entropy_with_logits(logits, tf_train_labels))+beta*tf.nn.l2_loss(weights_hidden1)\n",
    "\n",
    "  # Optimizer.\n",
    "  optimizer = tf.train.GradientDescentOptimizer(0.5).minimize(loss)\n",
    "  \n",
    "  # Predictions for the training, validation, and test data.\n",
    "  train_prediction = tf.nn.softmax(logits)\n",
    "  valid_prediction = tf.nn.softmax(\n",
    "    tf.matmul(tf.nn.relu(tf.matmul(tf_valid_dataset, weights_hidden1) + biases_hidden1), weights) + biases)\n",
    "  test_prediction = tf.nn.softmax(tf.matmul(tf.nn.relu(tf.matmul(tf_test_dataset, weights_hidden1) + biases_hidden1), weights) + biases)"
   ]
  },
  {
   "cell_type": "code",
   "execution_count": 42,
   "metadata": {
    "collapsed": false
   },
   "outputs": [
    {
     "name": "stdout",
     "output_type": "stream",
     "text": [
      "Initialized\n",
      "Minibatch loss at step 0: 370.865234\n",
      "Minibatch accuracy: 7.8%\n",
      "Validation accuracy: 31.4%\n",
      "Minibatch loss at step 500: 3.089524\n",
      "Minibatch accuracy: 100.0%\n",
      "Validation accuracy: 64.7%\n",
      "Minibatch loss at step 1000: 3.074125\n",
      "Minibatch accuracy: 100.0%\n",
      "Validation accuracy: 64.7%\n",
      "Minibatch loss at step 1500: 3.058794\n",
      "Minibatch accuracy: 100.0%\n",
      "Validation accuracy: 64.7%\n",
      "Minibatch loss at step 2000: 3.043553\n",
      "Minibatch accuracy: 100.0%\n",
      "Validation accuracy: 64.7%\n",
      "Minibatch loss at step 2500: 3.028372\n",
      "Minibatch accuracy: 100.0%\n",
      "Validation accuracy: 64.7%\n",
      "Minibatch loss at step 3000: 3.013259\n",
      "Minibatch accuracy: 100.0%\n",
      "Validation accuracy: 64.7%\n",
      "Test accuracy: 70.5%\n"
     ]
    }
   ],
   "source": [
    "num_steps = 3001\n",
    "\n",
    "with tf.Session(graph=graph) as session:\n",
    "  tf.initialize_all_variables().run()\n",
    "  print(\"Initialized\")\n",
    "  for step in range(num_steps):\n",
    "    # Pick an offset within the training data, which has been randomized.\n",
    "    # Note: we could use better randomization across epochs.\n",
    "    offset = (1 * batch_size) % (train_labels.shape[0] - batch_size)\n",
    "    # Generate a minibatch.\n",
    "    batch_data = train_dataset[offset:(offset + batch_size), :]\n",
    "    batch_labels = train_labels[offset:(offset + batch_size), :]\n",
    "    # Prepare a dictionary telling the session where to feed the minibatch.\n",
    "    # The key of the dictionary is the placeholder node of the graph to be fed,\n",
    "    # and the value is the numpy array to feed to it.\n",
    "    feed_dict = {tf_train_dataset : batch_data, tf_train_labels : batch_labels}\n",
    "    _, l, predictions = session.run(\n",
    "      [optimizer, loss, train_prediction], feed_dict=feed_dict)\n",
    "    if (step % 500 == 0):\n",
    "      print(\"Minibatch loss at step %d: %f\" % (step, l))\n",
    "      print(\"Minibatch accuracy: %.1f%%\" % accuracy(predictions, batch_labels))\n",
    "      print(\"Validation accuracy: %.1f%%\" % accuracy(\n",
    "        valid_prediction.eval(), valid_labels))\n",
    "  print(\"Test accuracy: %.1f%%\" % accuracy(test_prediction.eval(), test_labels))"
   ]
  },
  {
   "cell_type": "markdown",
   "metadata": {
    "colab_type": "text",
    "id": "ww3SCBUdlkRc"
   },
   "source": [
    "---\n",
    "Problem 3\n",
    "---------\n",
    "Introduce Dropout on the hidden layer of the neural network. Remember: Dropout should only be introduced during training, not evaluation, otherwise your evaluation results would be stochastic as well. TensorFlow provides `nn.dropout()` for that, but you have to make sure it's only inserted during training.\n",
    "\n",
    "What happens to our extreme overfitting case?\n",
    "\n",
    "---"
   ]
  },
  {
   "cell_type": "code",
   "execution_count": 34,
   "metadata": {
    "collapsed": true
   },
   "outputs": [],
   "source": [
    "tf.nn.dropout?"
   ]
  },
  {
   "cell_type": "code",
   "execution_count": 43,
   "metadata": {
    "collapsed": false
   },
   "outputs": [],
   "source": [
    "batch_size = 128\n",
    "nHidden=1024\n",
    "beta=0.00001\n",
    "\n",
    "graph = tf.Graph()\n",
    "with graph.as_default():\n",
    "\n",
    "  # Input data. For the training data, we use a placeholder that will be fed\n",
    "  # at run time with a training minibatch.\n",
    "  tf_train_dataset = tf.placeholder(tf.float32,\n",
    "                                    shape=(batch_size, image_size * image_size))\n",
    "  tf_train_labels = tf.placeholder(tf.float32, shape=(batch_size, num_labels))\n",
    "  tf_valid_dataset = tf.constant(valid_dataset)\n",
    "  tf_test_dataset = tf.constant(test_dataset)\n",
    "  \n",
    "  # Variables.\n",
    "  weights_hidden1 = tf.Variable(\n",
    "    tf.truncated_normal([image_size * image_size, nHidden]))\n",
    "  weights = tf.Variable(\n",
    "    tf.truncated_normal([nHidden, num_labels]))\n",
    "  biases_hidden1 = tf.Variable(tf.zeros([nHidden]))\n",
    "  biases = tf.Variable(tf.zeros([num_labels]))\n",
    "  \n",
    "  # Training computation.\n",
    "  hidden1 = tf.nn.dropout(tf.nn.relu(tf.matmul(tf_train_dataset, weights_hidden1) + biases_hidden1), 0.5 )\n",
    "  logits = tf.matmul(hidden1, weights) + biases\n",
    "  loss = tf.reduce_mean(\n",
    "    tf.nn.softmax_cross_entropy_with_logits(logits, tf_train_labels))+beta*tf.nn.l2_loss(weights_hidden1)\n",
    "  \n",
    "  # Optimizer.\n",
    "  optimizer = tf.train.GradientDescentOptimizer(0.5).minimize(loss)\n",
    "  \n",
    "  # Predictions for the training, validation, and test data.\n",
    "  train_prediction = tf.nn.softmax(logits)\n",
    "  valid_prediction = tf.nn.softmax(\n",
    "    tf.matmul(tf.nn.relu(tf.matmul(tf_valid_dataset, weights_hidden1) + biases_hidden1), weights) + biases)\n",
    "  test_prediction = tf.nn.softmax(\n",
    "    tf.matmul(tf.nn.relu(tf.matmul(tf_test_dataset, weights_hidden1) + biases_hidden1), weights) + biases)"
   ]
  },
  {
   "cell_type": "code",
   "execution_count": 44,
   "metadata": {
    "collapsed": false
   },
   "outputs": [
    {
     "name": "stdout",
     "output_type": "stream",
     "text": [
      "Initialized\n",
      "Minibatch loss at step 0: 447.893341\n",
      "Minibatch accuracy: 7.0%\n",
      "Validation accuracy: 24.3%\n",
      "Minibatch loss at step 500: 3.087762\n",
      "Minibatch accuracy: 100.0%\n",
      "Validation accuracy: 68.3%\n",
      "Minibatch loss at step 1000: 3.072571\n",
      "Minibatch accuracy: 100.0%\n",
      "Validation accuracy: 68.9%\n",
      "Minibatch loss at step 1500: 3.057426\n",
      "Minibatch accuracy: 100.0%\n",
      "Validation accuracy: 67.9%\n",
      "Minibatch loss at step 2000: 3.042302\n",
      "Minibatch accuracy: 100.0%\n",
      "Validation accuracy: 67.5%\n",
      "Minibatch loss at step 2500: 3.027176\n",
      "Minibatch accuracy: 100.0%\n",
      "Validation accuracy: 68.3%\n",
      "Minibatch loss at step 3000: 3.012167\n",
      "Minibatch accuracy: 100.0%\n",
      "Validation accuracy: 67.9%\n",
      "Test accuracy: 75.1%\n"
     ]
    }
   ],
   "source": [
    "num_steps = 3001\n",
    "\n",
    "with tf.Session(graph=graph) as session:\n",
    "  tf.initialize_all_variables().run()\n",
    "  print(\"Initialized\")\n",
    "  for step in range(num_steps):\n",
    "    # Pick an offset within the training data, which has been randomized.\n",
    "    # Note: we could use better randomization across epochs.\n",
    "    offset = (1 * batch_size) % (train_labels.shape[0] - batch_size)\n",
    "    # Generate a minibatch.\n",
    "    batch_data = train_dataset[offset:(offset + batch_size), :]\n",
    "    batch_labels = train_labels[offset:(offset + batch_size), :]\n",
    "    # Prepare a dictionary telling the session where to feed the minibatch.\n",
    "    # The key of the dictionary is the placeholder node of the graph to be fed,\n",
    "    # and the value is the numpy array to feed to it.\n",
    "    feed_dict = {tf_train_dataset : batch_data, tf_train_labels : batch_labels}\n",
    "    _, l, predictions = session.run(\n",
    "      [optimizer, loss, train_prediction], feed_dict=feed_dict)\n",
    "    if (step % 500 == 0):\n",
    "      print(\"Minibatch loss at step %d: %f\" % (step, l))\n",
    "      print(\"Minibatch accuracy: %.1f%%\" % accuracy(predictions, batch_labels))\n",
    "      print(\"Validation accuracy: %.1f%%\" % accuracy(\n",
    "        valid_prediction.eval(), valid_labels))\n",
    "  print(\"Test accuracy: %.1f%%\" % accuracy(test_prediction.eval(), test_labels))"
   ]
  },
  {
   "cell_type": "markdown",
   "metadata": {
    "colab_type": "text",
    "id": "-b1hTz3VWZjw"
   },
   "source": [
    "---\n",
    "Problem 4\n",
    "---------\n",
    "\n",
    "Try to get the best performance you can using a multi-layer model! The best reported test accuracy using a deep network is [97.1%](http://yaroslavvb.blogspot.com/2011/09/notmnist-dataset.html?showComment=1391023266211#c8758720086795711595).\n",
    "\n",
    "One avenue you can explore is to add multiple layers.\n",
    "\n",
    "Another one is to use learning rate decay:\n",
    "\n",
    "    global_step = tf.Variable(0)  # count the number of steps taken.\n",
    "    learning_rate = tf.train.exponential_decay(0.5, global_step, ...)\n",
    "    optimizer = tf.train.GradientDescentOptimizer(learning_rate).minimize(loss, global_step=global_step)\n",
    " \n",
    " ---\n"
   ]
  },
  {
   "cell_type": "markdown",
   "metadata": {},
   "source": [
    "## With just two additional layers"
   ]
  },
  {
   "cell_type": "code",
   "execution_count": 67,
   "metadata": {
    "collapsed": false
   },
   "outputs": [],
   "source": [
    "batch_size = 128\n",
    "nHidden1=1024\n",
    "nHidden2=300\n",
    "nHidden3=50\n",
    "beta=.0001\n",
    "\n",
    "graph = tf.Graph()\n",
    "with graph.as_default():\n",
    "\n",
    "  # Input data. For the training data, we use a placeholder that will be fed\n",
    "  # at run time with a training minibatch.\n",
    "  tf_train_dataset = tf.placeholder(tf.float32,\n",
    "                                    shape=(batch_size, image_size * image_size))\n",
    "  tf_train_labels = tf.placeholder(tf.float32, shape=(batch_size, num_labels))\n",
    "  tf_valid_dataset = tf.constant(valid_dataset)\n",
    "  tf_test_dataset = tf.constant(test_dataset)\n",
    "  \n",
    "  # Variables.\n",
    "  weights_hidden1 = tf.Variable(\n",
    "    tf.truncated_normal([image_size * image_size, nHidden1]))\n",
    "  weights_hidden2 = tf.Variable(\n",
    "    tf.truncated_normal([nHidden1, nHidden2])) \n",
    "  weights_hidden3 = tf.Variable(\n",
    "    tf.truncated_normal([nHidden2, nHidden3]))\n",
    "  weights = tf.Variable(\n",
    "    tf.truncated_normal([nHidden3, num_labels]))\n",
    "  biases_hidden1 = tf.Variable(tf.zeros([nHidden1]))\n",
    "  biases_hidden2 = tf.Variable(tf.zeros([nHidden2]))\n",
    "  biases_hidden3 = tf.Variable(tf.zeros([nHidden3]))\n",
    "  biases = tf.Variable(tf.zeros([num_labels]))\n",
    "  \n",
    "  # Training computation.\n",
    "  hidden1 = tf.nn.dropout(tf.nn.relu(tf.matmul(tf_train_dataset, weights_hidden1) + biases_hidden1), 0.5 )\n",
    "  hidden2 = tf.nn.dropout(tf.nn.relu(tf.matmul(hidden1, weights_hidden2) + biases_hidden2), 0.5 )\n",
    "  hidden3 = tf.nn.dropout(tf.nn.relu(tf.matmul(hidden2, weights_hidden3) + biases_hidden3), 0.5 )\n",
    "  logits = tf.matmul(hidden3, weights) + biases\n",
    "  loss = tf.reduce_mean(\n",
    "    tf.nn.softmax_cross_entropy_with_logits(logits, tf_train_labels))+beta*(\n",
    "    tf.nn.l2_loss(weights_hidden1)+tf.nn.l2_loss(weights_hidden2)+tf.nn.l2_loss(weights_hidden3))\n",
    "  \n",
    "  # Optimizer.\n",
    "  optimizer = tf.train.GradientDescentOptimizer(0.0005).minimize(loss)\n",
    "  \n",
    "  # Predictions for the training, validation, and test data.\n",
    "  train_prediction = tf.nn.softmax(logits)\n",
    "  \n",
    "  valid_hLayer1=tf.nn.relu(tf.matmul(tf_valid_dataset, weights_hidden1) + biases_hidden1)\n",
    "  valid_hLayer2=tf.nn.relu(tf.matmul(valid_hLayer1, weights_hidden2) + biases_hidden2)\n",
    "  valid_hLayer3=tf.nn.relu(tf.matmul(valid_hLayer2, weights_hidden3) + biases_hidden3)\n",
    "  valid_prediction = tf.nn.softmax(tf.matmul(valid_hLayer3, weights) + biases)\n",
    "\n",
    "  test_hLayer1=tf.nn.relu(tf.matmul(tf_test_dataset, weights_hidden1) + biases_hidden1)\n",
    "  test_hLayer2=tf.nn.relu(tf.matmul(test_hLayer1, weights_hidden2) + biases_hidden2)\n",
    "  test_hLayer3=tf.nn.relu(tf.matmul(test_hLayer2, weights_hidden3) + biases_hidden3)\n",
    "  test_prediction = tf.nn.softmax(tf.matmul(test_hLayer3, weights) + biases)\n",
    "  "
   ]
  },
  {
   "cell_type": "code",
   "execution_count": 68,
   "metadata": {
    "collapsed": false
   },
   "outputs": [
    {
     "name": "stdout",
     "output_type": "stream",
     "text": [
      "Initialized\n",
      "Minibatch loss at step 0: 48924.171875\n",
      "Minibatch accuracy: 8.6%\n",
      "Validation accuracy: 13.9%\n",
      "Minibatch loss at step 500: 62.357037\n",
      "Minibatch accuracy: 10.9%\n",
      "Validation accuracy: 10.0%\n",
      "Minibatch loss at step 1000: 62.448425\n",
      "Minibatch accuracy: 9.4%\n",
      "Validation accuracy: 10.0%\n",
      "Minibatch loss at step 1500: 50.824585\n",
      "Minibatch accuracy: 8.6%\n",
      "Validation accuracy: 10.0%\n",
      "Minibatch loss at step 2000: 51.878212\n",
      "Minibatch accuracy: 10.9%\n",
      "Validation accuracy: 10.0%\n",
      "Minibatch loss at step 2500: 46.911125\n",
      "Minibatch accuracy: 8.6%\n",
      "Validation accuracy: 10.0%\n",
      "Minibatch loss at step 3000: 47.891376\n",
      "Minibatch accuracy: 9.4%\n",
      "Validation accuracy: 10.0%\n",
      "Minibatch loss at step 3500: 45.857243\n",
      "Minibatch accuracy: 10.9%\n",
      "Validation accuracy: 10.0%\n",
      "Minibatch loss at step 4000: 46.066219\n",
      "Minibatch accuracy: 7.8%\n",
      "Validation accuracy: 10.0%\n",
      "Minibatch loss at step 4500: 45.710533\n",
      "Minibatch accuracy: 9.4%\n",
      "Validation accuracy: 10.0%\n",
      "Minibatch loss at step 5000: 46.827404\n",
      "Minibatch accuracy: 11.7%\n",
      "Validation accuracy: 10.0%\n",
      "Test accuracy: 10.0%\n"
     ]
    }
   ],
   "source": [
    "num_steps = 5001\n",
    "\n",
    "with tf.Session(graph=graph) as session:\n",
    "  tf.initialize_all_variables().run()\n",
    "  print(\"Initialized\")\n",
    "  for step in range(num_steps):\n",
    "    # Pick an offset within the training data, which has been randomized.\n",
    "    # Note: we could use better randomization across epochs.\n",
    "    offset = (step * batch_size) % (train_labels.shape[0] - batch_size)\n",
    "    # Generate a minibatch.\n",
    "    batch_data = train_dataset[offset:(offset + batch_size), :]\n",
    "    batch_labels = train_labels[offset:(offset + batch_size), :]\n",
    "    # Prepare a dictionary telling the session where to feed the minibatch.\n",
    "    # The key of the dictionary is the placeholder node of the graph to be fed,\n",
    "    # and the value is the numpy array to feed to it.\n",
    "    feed_dict = {tf_train_dataset : batch_data, tf_train_labels : batch_labels}\n",
    "    _, l, predictions = session.run(\n",
    "      [optimizer, loss, train_prediction], feed_dict=feed_dict)\n",
    "    if (step % 500 == 0):\n",
    "      print(\"Minibatch loss at step %d: %f\" % (step, l))\n",
    "      print(\"Minibatch accuracy: %.1f%%\" % accuracy(predictions, batch_labels))\n",
    "      print(\"Validation accuracy: %.1f%%\" % accuracy(\n",
    "        valid_prediction.eval(), valid_labels))\n",
    "  print(\"Test accuracy: %.1f%%\" % accuracy(test_prediction.eval(), test_labels))"
   ]
  },
  {
   "cell_type": "markdown",
   "metadata": {},
   "source": [
    "## With dynamic learning rate"
   ]
  },
  {
   "cell_type": "code",
   "execution_count": 83,
   "metadata": {
    "collapsed": true
   },
   "outputs": [],
   "source": [
    "tf.train.exponential_decay?"
   ]
  },
  {
   "cell_type": "code",
   "execution_count": 87,
   "metadata": {
    "collapsed": false
   },
   "outputs": [],
   "source": [
    "batch_size = 128\n",
    "nHidden1=1024\n",
    "nHidden2=300\n",
    "nHidden3=50\n",
    "beta=.00001\n",
    "\n",
    "graph = tf.Graph()\n",
    "with graph.as_default():\n",
    "\n",
    "  # Input data. For the training data, we use a placeholder that will be fed\n",
    "  # at run time with a training minibatch.\n",
    "  tf_train_dataset = tf.placeholder(tf.float32,\n",
    "                                    shape=(batch_size, image_size * image_size))\n",
    "  tf_train_labels = tf.placeholder(tf.float32, shape=(batch_size, num_labels))\n",
    "  tf_valid_dataset = tf.constant(valid_dataset)\n",
    "  tf_test_dataset = tf.constant(test_dataset)\n",
    "  global_step = tf.Variable(0)  # count the number of steps taken.\n",
    "\n",
    "\n",
    "  # Variables.\n",
    "  weights_hidden1 = tf.Variable(\n",
    "    tf.truncated_normal([image_size * image_size, nHidden1]))\n",
    "  weights_hidden2 = tf.Variable(\n",
    "    tf.truncated_normal([nHidden1, nHidden2])) \n",
    "  weights_hidden3 = tf.Variable(\n",
    "    tf.truncated_normal([nHidden2, nHidden3]))\n",
    "  weights = tf.Variable(\n",
    "    tf.truncated_normal([nHidden3, num_labels]))\n",
    "  biases_hidden1 = tf.Variable(tf.zeros([nHidden1]))\n",
    "  biases_hidden2 = tf.Variable(tf.zeros([nHidden2]))\n",
    "  biases_hidden3 = tf.Variable(tf.zeros([nHidden3]))\n",
    "  biases = tf.Variable(tf.zeros([num_labels]))\n",
    "  \n",
    "  # Training computation.\n",
    "  hidden1 = tf.nn.dropout(tf.nn.relu(tf.matmul(tf_train_dataset, weights_hidden1) + biases_hidden1), 0.5 )\n",
    "  hidden2 = tf.nn.dropout(tf.nn.relu(tf.matmul(hidden1, weights_hidden2) + biases_hidden2), 0.5 )\n",
    "  hidden3 = tf.nn.dropout(tf.nn.relu(tf.matmul(hidden2, weights_hidden3) + biases_hidden3), 0.5 )\n",
    "  logits = tf.matmul(hidden3, weights) + biases\n",
    "  loss = tf.reduce_mean(\n",
    "    tf.nn.softmax_cross_entropy_with_logits(logits, tf_train_labels))+beta*(\n",
    "    tf.nn.l2_loss(weights_hidden1)+tf.nn.l2_loss(weights_hidden2)+tf.nn.l2_loss(weights_hidden3))\n",
    "  learning_rate = tf.train.exponential_decay(0.0001, global_step, decay_steps=2000,decay_rate=.01)\n",
    "  \n",
    "  # Optimizer.\n",
    "  optimizer = tf.train.GradientDescentOptimizer(learning_rate).minimize(loss, global_step=global_step)\n",
    "  \n",
    "  # Predictions for the training, validation, and test data.\n",
    "  train_prediction = tf.nn.softmax(logits)\n",
    "  \n",
    "  valid_hLayer1=tf.nn.relu(tf.matmul(tf_valid_dataset, weights_hidden1) + biases_hidden1)\n",
    "  valid_hLayer2=tf.nn.relu(tf.matmul(valid_hLayer1, weights_hidden2) + biases_hidden2)\n",
    "  valid_hLayer3=tf.nn.relu(tf.matmul(valid_hLayer2, weights_hidden3) + biases_hidden3)\n",
    "  valid_prediction = tf.nn.softmax(tf.matmul(valid_hLayer3, weights) + biases)\n",
    "\n",
    "  test_hLayer1=tf.nn.relu(tf.matmul(tf_test_dataset, weights_hidden1) + biases_hidden1)\n",
    "  test_hLayer2=tf.nn.relu(tf.matmul(test_hLayer1, weights_hidden2) + biases_hidden2)\n",
    "  test_hLayer3=tf.nn.relu(tf.matmul(test_hLayer2, weights_hidden3) + biases_hidden3)\n",
    "  test_prediction = tf.nn.softmax(tf.matmul(test_hLayer3, weights) + biases)\n",
    "  "
   ]
  },
  {
   "cell_type": "code",
   "execution_count": 88,
   "metadata": {
    "collapsed": false
   },
   "outputs": [
    {
     "name": "stdout",
     "output_type": "stream",
     "text": [
      "Initialized\n",
      "Minibatch loss at step 0: 48858.390625\n",
      "Minibatch accuracy: 7.8%\n",
      "Validation accuracy: 10.3%\n",
      "Minibatch loss at step 500: 363.485962\n",
      "Minibatch accuracy: 13.3%\n",
      "Validation accuracy: 10.4%\n",
      "Minibatch loss at step 1000: 187.224503\n",
      "Minibatch accuracy: 14.1%\n",
      "Validation accuracy: 14.4%\n",
      "Minibatch loss at step 1500: 336.029419\n",
      "Minibatch accuracy: 10.9%\n",
      "Validation accuracy: 11.5%\n",
      "Minibatch loss at step 2000: 122.034492\n",
      "Minibatch accuracy: 10.2%\n",
      "Validation accuracy: 11.9%\n",
      "Minibatch loss at step 2500: 85.096031\n",
      "Minibatch accuracy: 11.7%\n",
      "Validation accuracy: 17.1%\n",
      "Minibatch loss at step 3000: 144.306717\n",
      "Minibatch accuracy: 8.6%\n",
      "Validation accuracy: 23.2%\n",
      "Minibatch loss at step 3500: 99.710976\n",
      "Minibatch accuracy: 15.6%\n",
      "Validation accuracy: 25.1%\n",
      "Minibatch loss at step 4000: 124.454926\n",
      "Minibatch accuracy: 14.1%\n",
      "Validation accuracy: 26.3%\n",
      "Minibatch loss at step 4500: 171.098618\n",
      "Minibatch accuracy: 12.5%\n",
      "Validation accuracy: 26.8%\n",
      "Minibatch loss at step 5000: 187.623260\n",
      "Minibatch accuracy: 13.3%\n",
      "Validation accuracy: 27.3%\n",
      "Minibatch loss at step 5500: 250.989441\n",
      "Minibatch accuracy: 15.6%\n",
      "Validation accuracy: 27.1%\n",
      "Minibatch loss at step 6000: 109.760246\n",
      "Minibatch accuracy: 15.6%\n",
      "Validation accuracy: 27.0%\n",
      "Minibatch loss at step 6500: 86.473824\n",
      "Minibatch accuracy: 20.3%\n",
      "Validation accuracy: 27.1%\n",
      "Minibatch loss at step 7000: 287.310272\n",
      "Minibatch accuracy: 12.5%\n",
      "Validation accuracy: 27.1%\n",
      "Minibatch loss at step 7500: 190.780151\n",
      "Minibatch accuracy: 16.4%\n",
      "Validation accuracy: 27.1%\n",
      "Minibatch loss at step 8000: 135.282562\n",
      "Minibatch accuracy: 18.8%\n",
      "Validation accuracy: 27.1%\n",
      "Minibatch loss at step 8500: 166.211365\n",
      "Minibatch accuracy: 24.2%\n",
      "Validation accuracy: 27.1%\n",
      "Minibatch loss at step 9000: 413.446960\n",
      "Minibatch accuracy: 10.9%\n",
      "Validation accuracy: 27.1%\n",
      "Minibatch loss at step 9500: 177.166367\n",
      "Minibatch accuracy: 16.4%\n",
      "Validation accuracy: 27.1%\n",
      "Minibatch loss at step 10000: 190.570847\n",
      "Minibatch accuracy: 15.6%\n",
      "Validation accuracy: 27.1%\n",
      "Minibatch loss at step 10500: 92.643738\n",
      "Minibatch accuracy: 21.9%\n",
      "Validation accuracy: 27.1%\n",
      "Minibatch loss at step 11000: 217.952972\n",
      "Minibatch accuracy: 20.3%\n",
      "Validation accuracy: 27.1%\n",
      "Minibatch loss at step 11500: 186.227615\n",
      "Minibatch accuracy: 14.8%\n",
      "Validation accuracy: 27.1%\n",
      "Minibatch loss at step 12000: 377.054932\n",
      "Minibatch accuracy: 14.8%\n",
      "Validation accuracy: 27.1%\n",
      "Minibatch loss at step 12500: 342.049866\n",
      "Minibatch accuracy: 14.1%\n",
      "Validation accuracy: 27.1%\n",
      "Minibatch loss at step 13000: 122.624992\n",
      "Minibatch accuracy: 22.7%\n",
      "Validation accuracy: 27.1%\n",
      "Minibatch loss at step 13500: 113.412834\n",
      "Minibatch accuracy: 21.1%\n",
      "Validation accuracy: 27.1%\n",
      "Minibatch loss at step 14000: 550.585999\n",
      "Minibatch accuracy: 13.3%\n",
      "Validation accuracy: 27.1%\n",
      "Minibatch loss at step 14500: 220.288116\n",
      "Minibatch accuracy: 14.8%\n",
      "Validation accuracy: 27.1%\n",
      "Minibatch loss at step 15000: 148.080902\n",
      "Minibatch accuracy: 14.8%\n",
      "Validation accuracy: 27.1%\n",
      "Minibatch loss at step 15500: 248.881104\n",
      "Minibatch accuracy: 13.3%\n",
      "Validation accuracy: 27.1%\n",
      "Minibatch loss at step 16000: 99.748268\n",
      "Minibatch accuracy: 18.8%\n",
      "Validation accuracy: 27.1%\n",
      "Minibatch loss at step 16500: 88.674141\n",
      "Minibatch accuracy: 18.0%\n",
      "Validation accuracy: 27.1%\n",
      "Minibatch loss at step 17000: 152.840744\n",
      "Minibatch accuracy: 14.1%\n",
      "Validation accuracy: 27.1%\n",
      "Minibatch loss at step 17500: 121.370964\n",
      "Minibatch accuracy: 14.1%\n",
      "Validation accuracy: 27.1%\n",
      "Minibatch loss at step 18000: 98.858849\n",
      "Minibatch accuracy: 14.8%\n",
      "Validation accuracy: 27.1%\n",
      "Minibatch loss at step 18500: 126.973396\n",
      "Minibatch accuracy: 18.0%\n",
      "Validation accuracy: 27.1%\n",
      "Minibatch loss at step 19000: 56.224987\n",
      "Minibatch accuracy: 16.4%\n",
      "Validation accuracy: 27.1%\n",
      "Minibatch loss at step 19500: 258.719849\n",
      "Minibatch accuracy: 17.2%\n",
      "Validation accuracy: 27.1%\n",
      "Minibatch loss at step 20000: 229.645737\n",
      "Minibatch accuracy: 13.3%\n",
      "Validation accuracy: 27.1%\n",
      "Test accuracy: 29.4%\n"
     ]
    }
   ],
   "source": [
    "num_steps = 20001\n",
    "\n",
    "with tf.Session(graph=graph) as session:\n",
    "  tf.initialize_all_variables().run()\n",
    "  print(\"Initialized\")\n",
    "  for step in range(num_steps):\n",
    "    # Pick an offset within the training data, which has been randomized.\n",
    "    # Note: we could use better randomization across epochs.\n",
    "    offset = (step * batch_size) % (train_labels.shape[0] - batch_size)\n",
    "    # Generate a minibatch.\n",
    "    batch_data = train_dataset[offset:(offset + batch_size), :]\n",
    "    batch_labels = train_labels[offset:(offset + batch_size), :]\n",
    "    # Prepare a dictionary telling the session where to feed the minibatch.\n",
    "    # The key of the dictionary is the placeholder node of the graph to be fed,\n",
    "    # and the value is the numpy array to feed to it.\n",
    "    feed_dict = {tf_train_dataset : batch_data, tf_train_labels : batch_labels}\n",
    "    _, l, predictions = session.run(\n",
    "      [optimizer, loss, train_prediction], feed_dict=feed_dict)\n",
    "    if (step % 500 == 0):\n",
    "      print(\"Minibatch loss at step %d: %f\" % (step, l))\n",
    "      print(\"Minibatch accuracy: %.1f%%\" % accuracy(predictions, batch_labels))\n",
    "      print(\"Validation accuracy: %.1f%%\" % accuracy(\n",
    "        valid_prediction.eval(), valid_labels))\n",
    "  print(\"Test accuracy: %.1f%%\" % accuracy(test_prediction.eval(), test_labels))"
   ]
  },
  {
   "cell_type": "code",
   "execution_count": null,
   "metadata": {
    "collapsed": true
   },
   "outputs": [],
   "source": []
  }
 ],
 "metadata": {
  "colab": {
   "default_view": {},
   "name": "3_regularization.ipynb",
   "provenance": [],
   "version": "0.3.2",
   "views": {}
  },
  "kernelspec": {
   "display_name": "Python 2",
   "language": "python",
   "name": "python2"
  },
  "language_info": {
   "codemirror_mode": {
    "name": "ipython",
    "version": 2
   },
   "file_extension": ".py",
   "mimetype": "text/x-python",
   "name": "python",
   "nbconvert_exporter": "python",
   "pygments_lexer": "ipython2",
   "version": "2.7.11"
  }
 },
 "nbformat": 4,
 "nbformat_minor": 0
}
