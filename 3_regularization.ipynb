{
 "cells": [
  {
   "cell_type": "markdown",
   "metadata": {
    "colab_type": "text",
    "id": "kR-4eNdK6lYS"
   },
   "source": [
    "Deep Learning\n",
    "=============\n",
    "\n",
    "Assignment 3\n",
    "------------\n",
    "\n",
    "Previously in `2_fullyconnected.ipynb`, you trained a logistic regression and a neural network model.\n",
    "\n",
    "The goal of this assignment is to explore regularization techniques."
   ]
  },
  {
   "cell_type": "code",
   "execution_count": 1,
   "metadata": {
    "cellView": "both",
    "colab": {
     "autoexec": {
      "startup": false,
      "wait_interval": 0
     }
    },
    "colab_type": "code",
    "collapsed": true,
    "id": "JLpLa8Jt7Vu4"
   },
   "outputs": [],
   "source": [
    "# These are all the modules we'll be using later. Make sure you can import them\n",
    "# before proceeding further.\n",
    "from __future__ import print_function\n",
    "import numpy as np\n",
    "import tensorflow as tf\n",
    "from six.moves import cPickle as pickle"
   ]
  },
  {
   "cell_type": "markdown",
   "metadata": {
    "colab_type": "text",
    "id": "1HrCK6e17WzV"
   },
   "source": [
    "First reload the data we generated in _notmist.ipynb_."
   ]
  },
  {
   "cell_type": "code",
   "execution_count": 9,
   "metadata": {
    "collapsed": false
   },
   "outputs": [
    {
     "name": "stdout",
     "output_type": "stream",
     "text": [
      "Object `minimize` not found.\n"
     ]
    }
   ],
   "source": [
    "tf.train.GradientDescentOptimizer(0.0005).minimize??"
   ]
  },
  {
   "cell_type": "code",
   "execution_count": null,
   "metadata": {
    "collapsed": true
   },
   "outputs": [],
   "source": [
    "tf.train.GradientDescentOptimizer(0.0005).minimize"
   ]
  },
  {
   "cell_type": "code",
   "execution_count": 10,
   "metadata": {
    "collapsed": true
   },
   "outputs": [],
   "source": [
    "tf.truncated_normal?"
   ]
  },
  {
   "cell_type": "code",
   "execution_count": null,
   "metadata": {
    "collapsed": true
   },
   "outputs": [],
   "source": [
    "tf.train.GradientDescentOptimizer(0.0005).minimize"
   ]
  },
  {
   "cell_type": "code",
   "execution_count": null,
   "metadata": {
    "collapsed": true
   },
   "outputs": [],
   "source": [
    "tf.train.GradientDescentOptimizer(0.0005).minimize"
   ]
  },
  {
   "cell_type": "code",
   "execution_count": null,
   "metadata": {
    "collapsed": true
   },
   "outputs": [],
   "source": [
    "tf.train.GradientDescentOptimizer(1).minimize"
   ]
  },
  {
   "cell_type": "code",
   "execution_count": 0,
   "metadata": {
    "cellView": "both",
    "colab": {
     "autoexec": {
      "startup": false,
      "wait_interval": 0
     },
     "output_extras": [
      {
       "item_id": 1
      }
     ]
    },
    "colab_type": "code",
    "collapsed": false,
    "executionInfo": {
     "elapsed": 11777,
     "status": "ok",
     "timestamp": 1449849322348,
     "user": {
      "color": "",
      "displayName": "",
      "isAnonymous": false,
      "isMe": true,
      "permissionId": "",
      "photoUrl": "",
      "sessionId": "0",
      "userId": ""
     },
     "user_tz": 480
    },
    "id": "y3-cj1bpmuxc",
    "outputId": "e03576f1-ebbe-4838-c388-f1777bcc9873"
   },
   "outputs": [
    {
     "name": "stdout",
     "output_type": "stream",
     "text": [
      "Training set (200000, 28, 28) (200000,)\n",
      "Validation set (10000, 28, 28) (10000,)\n",
      "Test set (18724, 28, 28) (18724,)\n"
     ]
    }
   ],
   "source": [
    "pickle_file = 'notMNIST.pickle'\n",
    "\n",
    "with open(pickle_file, 'rb') as f:\n",
    "  save = pickle.load(f)\n",
    "  train_dataset = save['train_dataset']\n",
    "  train_labels = save['train_labels']\n",
    "  valid_dataset = save['valid_dataset']\n",
    "  valid_labels = save['valid_labels']\n",
    "  test_dataset = save['test_dataset']\n",
    "  test_labels = save['test_labels']\n",
    "  del save  # hint to help gc free up memory\n",
    "  print('Training set', train_dataset.shape, train_labels.shape)\n",
    "  print('Validation set', valid_dataset.shape, valid_labels.shape)\n",
    "  print('Test set', test_dataset.shape, test_labels.shape)"
   ]
  },
  {
   "cell_type": "markdown",
   "metadata": {
    "colab_type": "text",
    "id": "L7aHrm6nGDMB"
   },
   "source": [
    "Reformat into a shape that's more adapted to the models we're going to train:\n",
    "- data as a flat matrix,\n",
    "- labels as float 1-hot encodings."
   ]
  },
  {
   "cell_type": "code",
   "execution_count": 0,
   "metadata": {
    "cellView": "both",
    "colab": {
     "autoexec": {
      "startup": false,
      "wait_interval": 0
     },
     "output_extras": [
      {
       "item_id": 1
      }
     ]
    },
    "colab_type": "code",
    "collapsed": false,
    "executionInfo": {
     "elapsed": 11728,
     "status": "ok",
     "timestamp": 1449849322356,
     "user": {
      "color": "",
      "displayName": "",
      "isAnonymous": false,
      "isMe": true,
      "permissionId": "",
      "photoUrl": "",
      "sessionId": "0",
      "userId": ""
     },
     "user_tz": 480
    },
    "id": "IRSyYiIIGIzS",
    "outputId": "3f8996ee-3574-4f44-c953-5c8a04636582"
   },
   "outputs": [
    {
     "name": "stdout",
     "output_type": "stream",
     "text": [
      "Training set (200000, 784) (200000, 10)\n",
      "Validation set (10000, 784) (10000, 10)\n",
      "Test set (18724, 784) (18724, 10)\n"
     ]
    }
   ],
   "source": [
    "image_size = 28\n",
    "num_labels = 10\n",
    "\n",
    "def reformat(dataset, labels):\n",
    "  dataset = dataset.reshape((-1, image_size * image_size)).astype(np.float32)\n",
    "  # Map 2 to [0.0, 1.0, 0.0 ...], 3 to [0.0, 0.0, 1.0 ...]\n",
    "  labels = (np.arange(num_labels) == labels[:,None]).astype(np.float32)\n",
    "  return dataset, labels\n",
    "train_dataset, train_labels = reformat(train_dataset, train_labels)\n",
    "valid_dataset, valid_labels = reformat(valid_dataset, valid_labels)\n",
    "test_dataset, test_labels = reformat(test_dataset, test_labels)\n",
    "print('Training set', train_dataset.shape, train_labels.shape)\n",
    "print('Validation set', valid_dataset.shape, valid_labels.shape)\n",
    "print('Test set', test_dataset.shape, test_labels.shape)"
   ]
  },
  {
   "cell_type": "code",
   "execution_count": 0,
   "metadata": {
    "cellView": "both",
    "colab": {
     "autoexec": {
      "startup": false,
      "wait_interval": 0
     }
    },
    "colab_type": "code",
    "collapsed": true,
    "id": "RajPLaL_ZW6w"
   },
   "outputs": [],
   "source": [
    "def accuracy(predictions, labels):\n",
    "  return (100.0 * np.sum(np.argmax(predictions, 1) == np.argmax(labels, 1))\n",
    "          / predictions.shape[0])"
   ]
  },
  {
   "cell_type": "markdown",
   "metadata": {
    "colab_type": "text",
    "id": "sgLbUAQ1CW-1"
   },
   "source": [
    "---\n",
    "Problem 1\n",
    "---------\n",
    "\n",
    "Introduce and tune L2 regularization for both logistic and neural network models. Remember that L2 amounts to adding a penalty on the norm of the weights to the loss. In TensorFlow, you can compute the L2 loss for a tensor `t` using `nn.l2_loss(t)`. The right amount of regularization should improve your validation / test accuracy.\n",
    "\n",
    "---"
   ]
  },
  {
   "cell_type": "markdown",
   "metadata": {
    "colab_type": "text",
    "id": "na8xX2yHZzNF"
   },
   "source": [
    "---\n",
    "Problem 2\n",
    "---------\n",
    "Let's demonstrate an extreme case of overfitting. Restrict your training data to just a few batches. What happens?\n",
    "\n",
    "---"
   ]
  },
  {
   "cell_type": "markdown",
   "metadata": {
    "colab_type": "text",
    "id": "ww3SCBUdlkRc"
   },
   "source": [
    "---\n",
    "Problem 3\n",
    "---------\n",
    "Introduce Dropout on the hidden layer of the neural network. Remember: Dropout should only be introduced during training, not evaluation, otherwise your evaluation results would be stochastic as well. TensorFlow provides `nn.dropout()` for that, but you have to make sure it's only inserted during training.\n",
    "\n",
    "What happens to our extreme overfitting case?\n",
    "\n",
    "---"
   ]
  },
  {
   "cell_type": "markdown",
   "metadata": {
    "colab_type": "text",
    "id": "-b1hTz3VWZjw"
   },
   "source": [
    "---\n",
    "Problem 4\n",
    "---------\n",
    "\n",
    "Try to get the best performance you can using a multi-layer model! The best reported test accuracy using a deep network is [97.1%](http://yaroslavvb.blogspot.com/2011/09/notmnist-dataset.html?showComment=1391023266211#c8758720086795711595).\n",
    "\n",
    "One avenue you can explore is to add multiple layers.\n",
    "\n",
    "Another one is to use learning rate decay:\n",
    "\n",
    "    global_step = tf.Variable(0)  # count the number of steps taken.\n",
    "    learning_rate = tf.train.exponential_decay(0.5, global_step, ...)\n",
    "    optimizer = tf.train.GradientDescentOptimizer(learning_rate).minimize(loss, global_step=global_step)\n",
    " \n",
    " ---\n"
   ]
  },
  {
   "cell_type": "code",
   "execution_count": 2,
   "metadata": {
    "collapsed": false
   },
   "outputs": [
    {
     "name": "stdout",
     "output_type": "stream",
     "text": [
      "Object `minimize` not found.\n"
     ]
    }
   ],
   "source": [
    "tf.train.GradientDescentOptimizer(0.5).minimize?"
   ]
  },
  {
   "cell_type": "code",
   "execution_count": 3,
   "metadata": {
    "collapsed": false
   },
   "outputs": [
    {
     "name": "stdout",
     "output_type": "stream",
     "text": [
      "Object `minimize` not found.\n"
     ]
    }
   ],
   "source": [
    "tf.train.GradientDescentOptimizer(0.5).minimize??"
   ]
  },
  {
   "cell_type": "code",
   "execution_count": 8,
   "metadata": {
    "collapsed": true
   },
   "outputs": [],
   "source": [
    "tf.train.exponential_decay?"
   ]
  },
  {
   "cell_type": "code",
   "execution_count": 13,
   "metadata": {
    "collapsed": false
   },
   "outputs": [
    {
     "name": "stdout",
     "output_type": "stream",
     "text": [
      "[array([ 0.5], dtype=float32)]\n",
      "[array([ 0.49796307], dtype=float32)]\n",
      "[array([ 0.49593443], dtype=float32)]\n",
      "[array([ 0.49391404], dtype=float32)]\n",
      "[array([ 0.4919019], dtype=float32)]\n",
      "[array([ 0.48989794], dtype=float32)]\n",
      "[array([ 0.48790216], dtype=float32)]\n",
      "[array([ 0.4859145], dtype=float32)]\n",
      "[array([ 0.48393494], dtype=float32)]\n",
      "[array([ 0.48196346], dtype=float32)]\n",
      "[array([ 0.47999999], dtype=float32)]\n",
      "[array([ 0.47804454], dtype=float32)]\n",
      "[array([ 0.47609702], dtype=float32)]\n",
      "[array([ 0.47415745], dtype=float32)]\n",
      "[array([ 0.47222582], dtype=float32)]\n",
      "[array([ 0.47030202], dtype=float32)]\n",
      "[array([ 0.46838605], dtype=float32)]\n",
      "[array([ 0.4664779], dtype=float32)]\n",
      "[array([ 0.46457753], dtype=float32)]\n",
      "[array([ 0.4626849], dtype=float32)]\n",
      "[array([ 0.46079999], dtype=float32)]\n",
      "[array([ 0.45892274], dtype=float32)]\n",
      "[array([ 0.45705312], dtype=float32)]\n",
      "[array([ 0.45519117], dtype=float32)]\n",
      "[array([ 0.45333678], dtype=float32)]\n",
      "[array([ 0.45148993], dtype=float32)]\n",
      "[array([ 0.44965062], dtype=float32)]\n",
      "[array([ 0.44781879], dtype=float32)]\n",
      "[array([ 0.44599444], dtype=float32)]\n",
      "[array([ 0.44417751], dtype=float32)]\n",
      "[array([ 0.44236797], dtype=float32)]\n",
      "[array([ 0.44056582], dtype=float32)]\n",
      "[array([ 0.43877101], dtype=float32)]\n",
      "[array([ 0.4369835], dtype=float32)]\n",
      "[array([ 0.43520328], dtype=float32)]\n",
      "[array([ 0.43343031], dtype=float32)]\n",
      "[array([ 0.43166459], dtype=float32)]\n",
      "[array([ 0.42990601], dtype=float32)]\n",
      "[array([ 0.42815465], dtype=float32)]\n",
      "[array([ 0.42641038], dtype=float32)]\n",
      "[array([ 0.42467326], dtype=float32)]\n",
      "[array([ 0.42294317], dtype=float32)]\n",
      "[array([ 0.42122015], dtype=float32)]\n",
      "[array([ 0.41950417], dtype=float32)]\n",
      "[array([ 0.41779515], dtype=float32)]\n",
      "[array([ 0.41609311], dtype=float32)]\n",
      "[array([ 0.41439798], dtype=float32)]\n",
      "[array([ 0.41270977], dtype=float32)]\n",
      "[array([ 0.41102844], dtype=float32)]\n",
      "[array([ 0.40935397], dtype=float32)]\n",
      "[array([ 0.40768629], dtype=float32)]\n",
      "[array([ 0.40602544], dtype=float32)]\n",
      "[array([ 0.40437135], dtype=float32)]\n",
      "[array([ 0.40272397], dtype=float32)]\n",
      "[array([ 0.40108332], dtype=float32)]\n",
      "[array([ 0.39944935], dtype=float32)]\n",
      "[array([ 0.39782205], dtype=float32)]\n",
      "[array([ 0.39620137], dtype=float32)]\n",
      "[array([ 0.39458728], dtype=float32)]\n",
      "[array([ 0.3929798], dtype=float32)]\n",
      "[array([ 0.39137882], dtype=float32)]\n",
      "[array([ 0.3897844], dtype=float32)]\n",
      "[array([ 0.38819647], dtype=float32)]\n",
      "[array([ 0.38661501], dtype=float32)]\n",
      "[array([ 0.38503999], dtype=float32)]\n",
      "[array([ 0.38347137], dtype=float32)]\n",
      "[array([ 0.38190916], dtype=float32)]\n",
      "[array([ 0.38035333], dtype=float32)]\n",
      "[array([ 0.37880379], dtype=float32)]\n",
      "[array([ 0.3772606], dtype=float32)]\n",
      "[array([ 0.37572369], dtype=float32)]\n",
      "[array([ 0.37419301], dtype=float32)]\n",
      "[array([ 0.37266862], dtype=float32)]\n",
      "[array([ 0.3711504], dtype=float32)]\n",
      "[array([ 0.36963838], dtype=float32)]\n",
      "[array([ 0.36813253], dtype=float32)]\n",
      "[array([ 0.36663279], dtype=float32)]\n",
      "[array([ 0.36513919], dtype=float32)]\n",
      "[array([ 0.36365163], dtype=float32)]\n",
      "[array([ 0.36217016], dtype=float32)]\n",
      "[array([ 0.36069474], dtype=float32)]\n",
      "[array([ 0.3592253], dtype=float32)]\n",
      "[array([ 0.35776186], dtype=float32)]\n",
      "[array([ 0.35630438], dtype=float32)]\n",
      "[array([ 0.35485286], dtype=float32)]\n",
      "[array([ 0.3534072], dtype=float32)]\n",
      "[array([ 0.35196745], dtype=float32)]\n",
      "[array([ 0.3505336], dtype=float32)]\n",
      "[array([ 0.34910557], dtype=float32)]\n",
      "[array([ 0.34768334], dtype=float32)]\n",
      "[array([ 0.34626693], dtype=float32)]\n",
      "[array([ 0.34485626], dtype=float32)]\n",
      "[array([ 0.34345138], dtype=float32)]\n",
      "[array([ 0.34205219], dtype=float32)]\n",
      "[array([ 0.34065872], dtype=float32)]\n",
      "[array([ 0.33927092], dtype=float32)]\n",
      "[array([ 0.33788875], dtype=float32)]\n",
      "[array([ 0.33651224], dtype=float32)]\n",
      "[array([ 0.33514133], dtype=float32)]\n",
      "[array([ 0.333776], dtype=float32)]\n"
     ]
    }
   ],
   "source": [
    "step=0\n",
    "graph = tf.Graph()\n",
    "with graph.as_default():\n",
    "    step=tf.placeholder(tf.int64,shape=(1))\n",
    "    learning_rate=tf.train.exponential_decay(0.5,step,10,.96)\n",
    "\n",
    "with tf.Session(graph=graph) as session:\n",
    "  tf.initialize_all_variables().run()\n",
    "  for i in xrange(100):\n",
    "    feed_dict = {step : [i]}\n",
    "    l= session.run(\n",
    "      [learning_rate], feed_dict=feed_dict)\n",
    "    print(l)"
   ]
  },
  {
   "cell_type": "code",
   "execution_count": null,
   "metadata": {
    "collapsed": true
   },
   "outputs": [],
   "source": []
  }
 ],
 "metadata": {
  "colab": {
   "default_view": {},
   "name": "3_regularization.ipynb",
   "provenance": [],
   "version": "0.3.2",
   "views": {}
  },
  "kernelspec": {
   "display_name": "Python 2",
   "language": "python",
   "name": "python2"
  },
  "language_info": {
   "codemirror_mode": {
    "name": "ipython",
    "version": 2
   },
   "file_extension": ".py",
   "mimetype": "text/x-python",
   "name": "python",
   "nbconvert_exporter": "python",
   "pygments_lexer": "ipython2",
   "version": "2.7.6"
  }
 },
 "nbformat": 4,
 "nbformat_minor": 0
}
